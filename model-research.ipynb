{
 "cells": [
  {
   "cell_type": "code",
   "execution_count": 1,
   "id": "3da1c09a-902a-49d7-b5ae-837afa001180",
   "metadata": {},
   "outputs": [],
   "source": [
    "%matplotlib inline"
   ]
  },
  {
   "cell_type": "code",
   "execution_count": 2,
   "id": "514ac7d6-84f1-4751-8cbd-63cd5c69860d",
   "metadata": {},
   "outputs": [
    {
     "name": "stderr",
     "output_type": "stream",
     "text": [
      "2024-07-31 16:28:01.990056: E external/local_xla/xla/stream_executor/cuda/cuda_fft.cc:485] Unable to register cuFFT factory: Attempting to register factory for plugin cuFFT when one has already been registered\n",
      "2024-07-31 16:28:02.016950: E external/local_xla/xla/stream_executor/cuda/cuda_dnn.cc:8454] Unable to register cuDNN factory: Attempting to register factory for plugin cuDNN when one has already been registered\n",
      "2024-07-31 16:28:02.024618: E external/local_xla/xla/stream_executor/cuda/cuda_blas.cc:1452] Unable to register cuBLAS factory: Attempting to register factory for plugin cuBLAS when one has already been registered\n"
     ]
    }
   ],
   "source": [
    "import os\n",
    "os.environ['TF_CPP_MIN_LOG_LEVEL'] = '2' \n",
    "\n",
    "import tensorflow as tf\n",
    "from tensorflow.keras import layers, models\n",
    "\n",
    "import numpy as np"
   ]
  },
  {
   "cell_type": "code",
   "execution_count": 3,
   "id": "b6e98f91-4002-4421-9426-fbaf19d6e165",
   "metadata": {},
   "outputs": [],
   "source": [
    "train_images_path = './data/train'\n",
    "train_masks_path = './data/train-masks'"
   ]
  },
  {
   "cell_type": "code",
   "execution_count": 4,
   "id": "b8c73797-f407-462b-b563-c98fba956d52",
   "metadata": {},
   "outputs": [],
   "source": [
    "test_images_path = './data/test'\n",
    "test_masks_path = './data/test-masks'"
   ]
  },
  {
   "cell_type": "code",
   "execution_count": 5,
   "id": "d345d3ae-3f30-4c19-a695-ec4fec8f0e1e",
   "metadata": {},
   "outputs": [],
   "source": [
    "valid_images_path = './data/valid'\n",
    "valid_masks_path = './data/valid-masks'"
   ]
  },
  {
   "cell_type": "code",
   "execution_count": 6,
   "id": "f3f488d4-3931-4efa-b406-ecd61ef2d1d4",
   "metadata": {},
   "outputs": [],
   "source": [
    "# there is no annotations for this image in .json\n",
    "# TODO: make check on this file if exists\n",
    "# if not os.remove(f\"{train_images_path}/2369_jpg.rf.8b8afa9d79c61fa42ca128c940b9cbc0.jpg\"):\n",
    "#     pass"
   ]
  },
  {
   "cell_type": "code",
   "execution_count": 7,
   "id": "8ed7c845-54b6-4ea1-8571-921da7867b52",
   "metadata": {},
   "outputs": [],
   "source": [
    "def load_images(image_dir, mask_dir):\n",
    "    images = []\n",
    "    masks = []\n",
    "    for filename in os.listdir(image_dir):\n",
    "        if filename.endswith('.coco.json'):\n",
    "            continue\n",
    "        \n",
    "        img = tf.keras.preprocessing.image.load_img(os.path.join(image_dir, filename), target_size=(128, 128))\n",
    "        img = tf.keras.preprocessing.image.img_to_array(img)\n",
    "        img /= 255.0\n",
    "        images.append(img)\n",
    "        \n",
    "        mask = tf.keras.preprocessing.image.load_img(os.path.join(mask_dir, filename), color_mode=\"grayscale\", target_size=(128, 128))\n",
    "        mask = tf.keras.preprocessing.image.img_to_array(mask)\n",
    "        mask /= 255.0\n",
    "        masks.append(mask)\n",
    "    \n",
    "    return np.array(images), np.array(masks)"
   ]
  },
  {
   "cell_type": "code",
   "execution_count": 8,
   "id": "d961c47d-d102-4eb2-add7-bcb19968bcf6",
   "metadata": {},
   "outputs": [],
   "source": [
    "X_train, y_train = load_images(image_dir=train_images_path, mask_dir=train_masks_path)"
   ]
  },
  {
   "cell_type": "code",
   "execution_count": 9,
   "id": "f8e84eee-b1c5-4900-937a-564a2d85db37",
   "metadata": {},
   "outputs": [],
   "source": [
    "if len(X_train) != len(y_train):\n",
    "    raise ValueError(f\"Number of training images ({len(X_train)}) and masks ({len(y_train)}) do not match.\")"
   ]
  },
  {
   "cell_type": "code",
   "execution_count": 10,
   "id": "1556add2-a256-41e3-86f2-5a55f1949e47",
   "metadata": {},
   "outputs": [
    {
     "data": {
      "text/plain": [
       "((1501, 128, 128, 3), (1501, 128, 128, 1))"
      ]
     },
     "execution_count": 10,
     "metadata": {},
     "output_type": "execute_result"
    }
   ],
   "source": [
    "X_train.shape, y_train.shape"
   ]
  },
  {
   "cell_type": "code",
   "execution_count": 11,
   "id": "414cdbff-edba-4ead-9522-caf90e663890",
   "metadata": {},
   "outputs": [],
   "source": [
    "def unet_model(input_size=(128, 128, 3)):\n",
    "    inputs = layers.Input(input_size)\n",
    "\n",
    "    # Encoder\n",
    "    c1 = layers.Conv2D(64, (3, 3), activation='relu', padding='same')(inputs)\n",
    "    c1 = layers.Conv2D(64, (3, 3), activation='relu', padding='same')(c1)\n",
    "    p1 = layers.MaxPooling2D((2, 2))(c1)\n",
    "\n",
    "    c2 = layers.Conv2D(128, (3, 3), activation='relu', padding='same')(p1)\n",
    "    c2 = layers.Conv2D(128, (3, 3), activation='relu', padding='same')(c2)\n",
    "    p2 = layers.MaxPooling2D((2, 2))(c2)\n",
    "\n",
    "    c3 = layers.Conv2D(256, (3, 3), activation='relu', padding='same')(p2)\n",
    "    c3 = layers.Conv2D(256, (3, 3), activation='relu', padding='same')(c3)\n",
    "    p3 = layers.MaxPooling2D((2, 2))(c3)\n",
    "\n",
    "    c4 = layers.Conv2D(512, (3, 3), activation='relu', padding='same')(p3)\n",
    "    c4 = layers.Conv2D(512, (3, 3), activation='relu', padding='same')(c4)\n",
    "    p4 = layers.MaxPooling2D((2, 2))(c4)\n",
    "\n",
    "    # Bottleneck\n",
    "    c5 = layers.Conv2D(1024, (3, 3), activation='relu', padding='same')(p4)\n",
    "    c5 = layers.Conv2D(1024, (3, 3), activation='relu', padding='same')(c5)\n",
    "\n",
    "    # Decoder\n",
    "    u6 = layers.Conv2DTranspose(512, (2, 2), strides=(2, 2), padding='same')(c5)\n",
    "    u6 = layers.concatenate([u6, c4])\n",
    "    c6 = layers.Conv2D(512, (3, 3), activation='relu', padding='same')(u6)\n",
    "    c6 = layers.Conv2D(512, (3, 3), activation='relu', padding='same')(c6)\n",
    "\n",
    "    u7 = layers.Conv2DTranspose(256, (2, 2), strides=(2, 2), padding='same')(c6)\n",
    "    u7 = layers.concatenate([u7, c3])\n",
    "    c7 = layers.Conv2D(256, (3, 3), activation='relu', padding='same')(u7)\n",
    "    c7 = layers.Conv2D(256, (3, 3), activation='relu', padding='same')(c7)\n",
    "\n",
    "    u8 = layers.Conv2DTranspose(128, (2, 2), strides=(2, 2), padding='same')(c7)\n",
    "    u8 = layers.concatenate([u8, c2])\n",
    "    c8 = layers.Conv2D(128, (3, 3), activation='relu', padding='same')(u8)\n",
    "    c8 = layers.Conv2D(128, (3, 3), activation='relu', padding='same')(c8)\n",
    "\n",
    "    u9 = layers.Conv2DTranspose(64, (2, 2), strides=(2, 2), padding='same')(c8)\n",
    "    u9 = layers.concatenate([u9, c1])\n",
    "    c9 = layers.Conv2D(64, (3, 3), activation='relu', padding='same')(u9)\n",
    "    c9 = layers.Conv2D(64, (3, 3), activation='relu', padding='same')(c9)\n",
    "\n",
    "    outputs = layers.Conv2D(1, (1, 1), activation='sigmoid')(c9)\n",
    "\n",
    "    model = models.Model(inputs=[inputs], outputs=[outputs])\n",
    "\n",
    "    return model\n",
    "\n",
    "\n",
    "model = unet_model()"
   ]
  },
  {
   "cell_type": "code",
   "execution_count": 12,
   "id": "583657f7-b32f-46a5-910d-8173d38ed0be",
   "metadata": {},
   "outputs": [],
   "source": [
    "def dice_score(y_true, y_pred, smooth=1):\n",
    "    y_true_f = tf.keras.backend.flatten(y_true)\n",
    "    y_pred_f = tf.keras.backend.flatten(y_pred)\n",
    "    intersection = tf.keras.backend.sum(y_true_f * y_pred_f)\n",
    "    return (2. * intersection + smooth) / (tf.keras.backend.sum(y_true_f) + tf.keras.backend.sum(y_pred_f) + smooth)"
   ]
  },
  {
   "cell_type": "code",
   "execution_count": 13,
   "id": "cd3dc5b8-9c3b-4abe-865f-9d1e0bbdd05c",
   "metadata": {},
   "outputs": [],
   "source": [
    "model = unet_model()\n",
    "model.compile(optimizer='adam',\n",
    "              loss='binary_crossentropy',\n",
    "              metrics=['accuracy', dice_score])"
   ]
  },
  {
   "cell_type": "code",
   "execution_count": 14,
   "id": "8d464923-f160-4712-987e-9d270c9f4734",
   "metadata": {},
   "outputs": [],
   "source": [
    "X_val, y_val = load_images(valid_images_path, valid_masks_path)"
   ]
  },
  {
   "cell_type": "code",
   "execution_count": null,
   "id": "0715d039-ec7d-4a6b-b952-187a01876c14",
   "metadata": {},
   "outputs": [
    {
     "name": "stdout",
     "output_type": "stream",
     "text": [
      "Epoch 1/20\n",
      "\u001b[1m15/94\u001b[0m \u001b[32m━━━\u001b[0m\u001b[37m━━━━━━━━━━━━━━━━━\u001b[0m \u001b[1m12:47\u001b[0m 10s/step - accuracy: 0.9670 - dice_score: 0.0296 - loss: 0.4644"
     ]
    }
   ],
   "source": [
    "hist = model.fit(X_train, y_train, epochs=20, batch_size=16, validation_data=(X_val, y_val))"
   ]
  },
  {
   "cell_type": "code",
   "execution_count": null,
   "id": "c2095608-7e67-4f5c-a75d-449e2a8f90d2",
   "metadata": {},
   "outputs": [],
   "source": [
    "import matplotlib.pyplot as plt\n",
    "\n",
    "plt.plot(hist.history['accuracy'])\n",
    "plt.plot(hist.history['val_accuracy'])\n",
    "plt.title('accuracy vs validation accuracy')\n",
    "plt.legend([\"accuracy\", \"val_accuracy\"], loc=\"lower right\")\n",
    "plt.show()"
   ]
  },
  {
   "cell_type": "code",
   "execution_count": null,
   "id": "832d3f4d-c7ec-4f6e-b69a-abbfc6e6af5a",
   "metadata": {},
   "outputs": [],
   "source": [
    "import matplotlib.pyplot as plt\n",
    "\n",
    "plt.plot(hist.history['dice_score'])\n",
    "plt.plot(hist.history['loss'])\n",
    "plt.title('dcie score vs loss')\n",
    "plt.legend([\"dice_score\", \"loss\"], loc=\"lower right\")\n",
    "plt.show()"
   ]
  },
  {
   "cell_type": "code",
   "execution_count": null,
   "id": "d36691df-e5fa-4ad3-8128-072ba27506d5",
   "metadata": {},
   "outputs": [],
   "source": [
    "X_test, y_test = load_images(test_images_path, test_masks_path)"
   ]
  },
  {
   "cell_type": "code",
   "execution_count": null,
   "id": "08c6024d-1fb5-4e67-99b8-7c7db5b1545b",
   "metadata": {},
   "outputs": [],
   "source": [
    "model.evaluate(X_test, y_test)"
   ]
  },
  {
   "cell_type": "code",
   "execution_count": null,
   "id": "a16f9152-25e6-4260-a320-cc786017b990",
   "metadata": {},
   "outputs": [],
   "source": [
    "predicted_imgs = model.predict(X_test)"
   ]
  },
  {
   "cell_type": "code",
   "execution_count": null,
   "id": "45b755ae-5897-4d65-92ff-161197376d43",
   "metadata": {},
   "outputs": [],
   "source": [
    "def display_images(input_img, predicted_img, true_img):\n",
    "    import matplotlib.pyplot as plt\n",
    "    \n",
    "    fig, axes = plt.subplots(1, 3, figsize=(15, 5))\n",
    "    \n",
    "    axes[0].imshow(input_img.squeeze(), cmap='gray')\n",
    "    axes[0].set_title('Input Image')\n",
    "    axes[0].axis('off')\n",
    "    \n",
    "    axes[1].imshow(predicted_img.squeeze(), cmap='gray')\n",
    "    axes[1].set_title('Predicted Image')\n",
    "    axes[1].axis('off')\n",
    "    \n",
    "    axes[2].imshow(true_img.squeeze(), cmap='gray')\n",
    "    axes[2].set_title('True Image')\n",
    "    axes[2].axis('off')\n",
    "    \n",
    "    plt.show()"
   ]
  },
  {
   "cell_type": "code",
   "execution_count": null,
   "id": "dc9b19f1-b3dc-4e0a-b470-caa9252da001",
   "metadata": {},
   "outputs": [],
   "source": [
    "for i in range(5):\n",
    "    display_images(X_test[i], predicted_imgs[i], y_test[i])"
   ]
  }
 ],
 "metadata": {
  "kernelspec": {
   "display_name": "Python 3 (ipykernel)",
   "language": "python",
   "name": "python3"
  },
  "language_info": {
   "codemirror_mode": {
    "name": "ipython",
    "version": 3
   },
   "file_extension": ".py",
   "mimetype": "text/x-python",
   "name": "python",
   "nbconvert_exporter": "python",
   "pygments_lexer": "ipython3",
   "version": "3.12.3"
  }
 },
 "nbformat": 4,
 "nbformat_minor": 5
}
